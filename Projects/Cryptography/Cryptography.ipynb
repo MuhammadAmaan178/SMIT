{
 "cells": [
  {
   "cell_type": "code",
   "execution_count": 1,
   "id": "f4b9a21c-c21e-48bf-ad89-358286518535",
   "metadata": {},
   "outputs": [],
   "source": [
    "import module as mod"
   ]
  },
  {
   "cell_type": "code",
   "execution_count": 7,
   "id": "bd668704-6ffc-4738-b170-6c03a8e55d9c",
   "metadata": {},
   "outputs": [
    {
     "name": "stdout",
     "output_type": "stream",
     "text": [
      "What do you want?\n",
      "1.Encode a message\n",
      "2.Decode a message\n"
     ]
    },
    {
     "name": "stdin",
     "output_type": "stream",
     "text": [
      "Enter your choice between 1 and 2 (or e for exit) 1\n",
      "Enter Your Message :  My name is Muhammad Amaan\n"
     ]
    },
    {
     "name": "stdout",
     "output_type": "stream",
     "text": [
      "Type Your Key { Note:- It should be inversable matrix }\n"
     ]
    },
    {
     "name": "stdin",
     "output_type": "stream",
     "text": [
      "Enter Element For First Row and First Column :  7\n",
      "Enter Element For First Row and Second Column :  5\n",
      "Enter Element For Second Row and First Column :  3\n",
      "Enter Element For Second Row and Second Column :  6\n"
     ]
    },
    {
     "name": "stdout",
     "output_type": "stream",
     "text": [
      "Your Encoded Message Is 166 215 42 84 46 83 35 25 120 159 39 78 171 153 46 83 94 71 28 20 46 83 10 11 98 70 and key is [[7, 5], [3, 6]]\n",
      "What do you want?\n",
      "1.Encode a message\n",
      "2.Decode a message\n"
     ]
    },
    {
     "name": "stdin",
     "output_type": "stream",
     "text": [
      "Enter your choice between 1 and 2 (or e for exit) 2\n",
      "Enter Your Encoded Message (Like this:- 51 2 33 23) :  166 215 42 84 46 83 35 25 120 159 39 78 171 153 46 83 94 71 28 20 46 83 10 11 98 70\n"
     ]
    },
    {
     "name": "stdout",
     "output_type": "stream",
     "text": [
      "Type Your Key { Note:- It should be inversable matrix }\n"
     ]
    },
    {
     "name": "stdin",
     "output_type": "stream",
     "text": [
      "Enter Element For First Row and First Column :  7\n",
      "Enter Element For First Row and Second Column :  5\n",
      "Enter Element For Second Row and First Column :  3\n",
      "Enter Element For Second Row and Second Column :  6\n"
     ]
    },
    {
     "name": "stdout",
     "output_type": "stream",
     "text": [
      "According To Your Key [[7, 5], [3, 6]], Your Final Decoded Message Is MY NAME IS MUHAMMAD AMAAN \n",
      "What do you want?\n",
      "1.Encode a message\n",
      "2.Decode a message\n"
     ]
    },
    {
     "name": "stdin",
     "output_type": "stream",
     "text": [
      "Enter your choice between 1 and 2 (or e for exit) e\n"
     ]
    }
   ],
   "source": [
    "while True:\n",
    "    print(\"What do you want?\")\n",
    "    print(\"1.Encode a message\")\n",
    "    print(\"2.Decode a message\")\n",
    "    ch = input(\"Enter your choice between 1 and 2 (or e for exit)\")\n",
    "    if ch == \"1\":\n",
    "        msg = input(\"Enter Your Message : \").upper()\n",
    "        new_list = mod.take_string(msg) #this is the list we get by string into numeric form and then into 1X2 matrix\n",
    "        print(\"Type Your Key { Note:- It should be inversable matrix }\")\n",
    "        x11 = int(input(\"Enter Element For First Row and First Column : \"))\n",
    "        x12 = int(input(\"Enter Element For First Row and Second Column : \"))\n",
    "        x21 = int(input(\"Enter Element For Second Row and First Column : \"))\n",
    "        x22 = int(input(\"Enter Element For Second Row and Second Column : \"))\n",
    "        key = [[x11,x12],[x21,x22]]\n",
    "        encoded_msg = mod.key_msg(new_list,x11,x12,x21,x22) #this will final return your encoded message by taking your 1X2 matrix and key\n",
    "        # Convert the list of integers back to a string\n",
    "        result_string = \" \".join(map(str, encoded_msg))\n",
    "        print(f\"Your Encoded Message Is {result_string} and key is {key}\")\n",
    "    elif ch == \"2\":\n",
    "        r_result = input(\"Enter Your Encoded Message (Like this:- 51 2 33 23) : \")\n",
    "        split = r_result.split(\" \")\n",
    "        result = []\n",
    "        for i in split:\n",
    "            result.append(int(i))\n",
    "        print(\"Type Your Key { Note:- It should be inversable matrix }\")\n",
    "        x11 = int(input(\"Enter Element For First Row and First Column : \"))\n",
    "        x12 = int(input(\"Enter Element For First Row and Second Column : \"))\n",
    "        x21 = int(input(\"Enter Element For Second Row and First Column : \"))\n",
    "        x22 = int(input(\"Enter Element For Second Row and Second Column : \"))\n",
    "        key = [[x11,x12],[x21,x22]]\n",
    "        temp = ((key[0][0]) * (key[1][1])) - ((key[0][1]) * (key[1][0]))\n",
    "        if temp == 0:\n",
    "            print(\"Martix Is Non-Inversable\")\n",
    "        else:\n",
    "            inverse_key = mod.inverse(key)\n",
    "            f_result = mod.inversekey_msg(result,inverse_key)\n",
    "            message = mod.decode(f_result)\n",
    "            print(f\"According To Your Key {key}, Your Final Decoded Message Is {message}\")\n",
    "    elif ch == \"e\":\n",
    "        break\n",
    "    else:\n",
    "        print(\"Invalid Choice!!!\")"
   ]
  },
  {
   "cell_type": "code",
   "execution_count": null,
   "id": "09592cd3-8dfd-4daf-8958-846bdbbf2b4d",
   "metadata": {},
   "outputs": [],
   "source": []
  }
 ],
 "metadata": {
  "kernelspec": {
   "display_name": "Python 3 (ipykernel)",
   "language": "python",
   "name": "python3"
  },
  "language_info": {
   "codemirror_mode": {
    "name": "ipython",
    "version": 3
   },
   "file_extension": ".py",
   "mimetype": "text/x-python",
   "name": "python",
   "nbconvert_exporter": "python",
   "pygments_lexer": "ipython3",
   "version": "3.12.4"
  }
 },
 "nbformat": 4,
 "nbformat_minor": 5
}
