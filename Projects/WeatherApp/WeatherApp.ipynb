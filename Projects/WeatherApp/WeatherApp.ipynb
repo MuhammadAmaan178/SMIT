{
 "cells": [
  {
   "cell_type": "code",
   "execution_count": 2,
   "id": "c522629c-ccab-46fb-8c29-7b2f4919e0b8",
   "metadata": {},
   "outputs": [],
   "source": [
    "import module\n",
    "import api"
   ]
  },
  {
   "cell_type": "code",
   "execution_count": 4,
   "id": "4e81c4b6-6b70-43c4-bfb9-eedfdbeba08f",
   "metadata": {},
   "outputs": [
    {
     "name": "stdin",
     "output_type": "stream",
     "text": [
      "Enter the city name (or type e for exit):  Karachi\n"
     ]
    },
    {
     "name": "stdout",
     "output_type": "stream",
     "text": [
      "Weather in Karachi, PK:\n",
      "Weather Description: Clear sky\n",
      "Temperature: 33.9°C\n",
      "Min Temp: 33.9°C\n",
      "Max Temp: 33.9°C\n",
      "Pressure: 1014 hPa\n",
      "Humidity: 22%\n",
      "Sea Level: 1014 hPa\n",
      "Wind Speed: 2.57 m/s\n",
      "Error: Unable to fetch weather data.\n"
     ]
    },
    {
     "name": "stdin",
     "output_type": "stream",
     "text": [
      "Enter the city name (or type e for exit):  e\n"
     ]
    }
   ],
   "source": [
    "while True:\n",
    "    city = input(\"Enter the city name (or type e for exit): \")\n",
    "    if city == \"e\":\n",
    "        break\n",
    "    else:\n",
    "        api_key = api.getapikey()\n",
    "        weather_data = module.get_weather(city,api_key)\n",
    "        if weather_data is None:\n",
    "            print(\"Error: Unable to fetch weather data.\")\n",
    "        else:\n",
    "            city,country,weather_description, temperature,temp_min,temp_max,pressure,humidity,sea_level,wind_speed = weather_data\n",
    "            print(f\"Weather in {city}, {country}:\")\n",
    "            print(f\"Weather Description: {weather_description.capitalize()}\")\n",
    "            print(f\"Temperature: {temperature}°C\")\n",
    "            print(f\"Min Temp: {temp_min}°C\")\n",
    "            print(f\"Max Temp: {temp_max}°C\")\n",
    "            print(f\"Pressure: {pressure} hPa\")\n",
    "            print(f\"Humidity: {humidity}%\")\n",
    "            print(f\"Sea Level: {sea_level} hPa\")\n",
    "            print(f\"Wind Speed: {wind_speed} m/s\")"
   ]
  },
  {
   "cell_type": "code",
   "execution_count": null,
   "id": "c5edb441-5018-4c1b-a289-0a0bcbe64f3c",
   "metadata": {},
   "outputs": [],
   "source": []
  }
 ],
 "metadata": {
  "kernelspec": {
   "display_name": "Python 3 (ipykernel)",
   "language": "python",
   "name": "python3"
  },
  "language_info": {
   "codemirror_mode": {
    "name": "ipython",
    "version": 3
   },
   "file_extension": ".py",
   "mimetype": "text/x-python",
   "name": "python",
   "nbconvert_exporter": "python",
   "pygments_lexer": "ipython3",
   "version": "3.12.4"
  }
 },
 "nbformat": 4,
 "nbformat_minor": 5
}
