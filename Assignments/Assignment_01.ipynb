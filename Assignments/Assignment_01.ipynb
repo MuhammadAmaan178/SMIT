{
 "cells": [
  {
   "cell_type": "raw",
   "id": "ae2de095-73f4-4efd-8034-d62c290a31fb",
   "metadata": {},
   "source": [
    "1) Using the python print function print any string value, integer value, boolean value, float value in single print command"
   ]
  },
  {
   "cell_type": "code",
   "execution_count": 1,
   "id": "e5b19606-4baa-434e-a127-661802412fa9",
   "metadata": {},
   "outputs": [
    {
     "name": "stdout",
     "output_type": "stream",
     "text": [
      "Hello 18 True 3.14\n"
     ]
    }
   ],
   "source": [
    "print(\"Hello\",18,True,3.14)"
   ]
  },
  {
   "cell_type": "raw",
   "id": "49b9b4c4-3a22-429f-8706-806b0e202d81",
   "metadata": {},
   "source": [
    "2) Using the python print function print hyphon(-) separated any string value, integer value, boolean value, float value in single print command"
   ]
  },
  {
   "cell_type": "code",
   "execution_count": 2,
   "id": "1b7e2480-7b21-46c4-9d36-219a0a069923",
   "metadata": {},
   "outputs": [
    {
     "name": "stdout",
     "output_type": "stream",
     "text": [
      "Hello-18-True-3.14\n"
     ]
    }
   ],
   "source": [
    "print(\"Hello\",18,True,3.14,sep=\"-\")"
   ]
  },
  {
   "cell_type": "raw",
   "id": "1a41a227-d070-4f5a-8262-61434abe8320",
   "metadata": {},
   "source": [
    "3) Using the python print function print any string value, integer value, boolean value, float value in separate print command.\n",
    "But every value must be space separated and in single line"
   ]
  },
  {
   "cell_type": "code",
   "execution_count": 3,
   "id": "2b97d180-c6be-4ae0-8256-bbb13588a288",
   "metadata": {},
   "outputs": [
    {
     "name": "stdout",
     "output_type": "stream",
     "text": [
      "HelloWorld 18 True 3.142 "
     ]
    }
   ],
   "source": [
    "print(\"HelloWorld\",end=\" \")\n",
    "print(18,end=\" \")\n",
    "print(True,end=\" \")\n",
    "print(3.142,end=\" \")"
   ]
  },
  {
   "cell_type": "raw",
   "id": "ee1ccdd9-19e4-4afe-8d91-37fe13019f19",
   "metadata": {},
   "source": [
    "4) Can a python print function take no value to print???"
   ]
  },
  {
   "cell_type": "code",
   "execution_count": 4,
   "id": "8a8d4733-5d2a-4663-8dc1-91277ea8ff34",
   "metadata": {},
   "outputs": [
    {
     "name": "stdout",
     "output_type": "stream",
     "text": [
      "\n"
     ]
    }
   ],
   "source": [
    "print()"
   ]
  },
  {
   "cell_type": "raw",
   "id": "bd9ae723-9f71-4eee-a764-adf7440ef574",
   "metadata": {},
   "source": [
    "5) One of my friends name is Mr. Ahmed. He is 30 years old.  He is a lawer by profession. He has done his bachelors in law in the year 2005. He is working with a reputable law firm 'The Himalya Associates' in Karachi since 2015.\n",
    "He is a handsome lawer with height of 5.10 feets and weight 70600g. His monthly income is Rs. 200k PKR.\n",
    "\n",
    "Note: Create variables from above text and also assign values from the text.  "
   ]
  },
  {
   "cell_type": "code",
   "execution_count": 5,
   "id": "1ff6e320-d40c-421e-a7b5-aec1a14863fc",
   "metadata": {},
   "outputs": [],
   "source": [
    "name = \"Ahmed\"\n",
    "age = 30\n",
    "profession = \"lawer\"\n",
    "education = \"bachelors\"\n",
    "e_complete_year = 2005\n",
    "law_firm = \"The Himalya Associates\"\n",
    "place = \"Karachi\"\n",
    "height = 5.10\n",
    "weight = 70600\n",
    "income = 200000"
   ]
  },
  {
   "cell_type": "raw",
   "id": "67029d81-0749-440a-8bcb-2839f8dbaa7c",
   "metadata": {},
   "source": [
    "6)How many years has been to Mr. Ahmed after his bachelors degree? Create a variable that hold current year value and then subtract it from his passout year"
   ]
  },
  {
   "cell_type": "code",
   "execution_count": 20,
   "id": "e6d14238-27b1-48e9-965b-64bce7881b4b",
   "metadata": {},
   "outputs": [
    {
     "name": "stdout",
     "output_type": "stream",
     "text": [
      "Its been 20 years Mr Ahmed passout\n"
     ]
    }
   ],
   "source": [
    "c_year = 2025\n",
    "print(f\"Its been {c_year-e_complete_year} years Mr Ahmed passout\")"
   ]
  },
  {
   "cell_type": "raw",
   "id": "5ac92592-4e1d-43a7-90c4-7b2e798345fc",
   "metadata": {},
   "source": [
    "7) How many years has Mr. Ahmed been working with law firm 'The Himalya Associates'. Create necesary variables and print the correct number of years in working in the firm"
   ]
  },
  {
   "cell_type": "code",
   "execution_count": 21,
   "id": "65610f01-3550-48a1-8971-9835ac283e7e",
   "metadata": {},
   "outputs": [
    {
     "name": "stdout",
     "output_type": "stream",
     "text": [
      "Its been 10 years Mr Ahmed working in the firm\n"
     ]
    }
   ],
   "source": [
    "y = 2015\n",
    "print(f\"Its been {c_year-y} years Mr Ahmed working in the firm\")"
   ]
  },
  {
   "cell_type": "raw",
   "id": "ed1361ba-5458-40a2-8690-4511760522d2",
   "metadata": {},
   "source": [
    "8)Convert the monthly income of Mr. Ahmed in dollars.  Create necesary variables and print the income in dollars."
   ]
  },
  {
   "cell_type": "code",
   "execution_count": 10,
   "id": "a62c8647-3637-452b-b65d-52f41f7a28b2",
   "metadata": {},
   "outputs": [
    {
     "name": "stdout",
     "output_type": "stream",
     "text": [
      "The income of Mr Ahmed in dollars is around 55900000.0\n"
     ]
    }
   ],
   "source": [
    "dollar = 279.50\n",
    "income_d = income*dollar\n",
    "print(f\"The income of Mr Ahmed in dollars is around {income_d}\")"
   ]
  },
  {
   "cell_type": "raw",
   "id": "0a127fbe-28c3-43ca-84ab-281d50004072",
   "metadata": {},
   "source": [
    "9) Check if the income in dollars is a float or integer value. if it is float, re-write the code so that income gets converted in integer. print the income in integer type value"
   ]
  },
  {
   "cell_type": "code",
   "execution_count": 14,
   "id": "df394f8e-d20e-4431-a595-f4469d859fcf",
   "metadata": {},
   "outputs": [
    {
     "name": "stdout",
     "output_type": "stream",
     "text": [
      "Its in float!!!\n",
      "In Integer, it will be around 55900000\n"
     ]
    }
   ],
   "source": [
    "if (isinstance(income_d,float) == True):\n",
    "    print(\"Its in float!!!\")\n",
    "    print(f\"In Integer, it will be around {int(income_d)}\")\n",
    "else:\n",
    "    print(\"Its already in integer\")"
   ]
  },
  {
   "cell_type": "raw",
   "id": "45e1fbb0-08a5-4370-ab1e-284f45a015d6",
   "metadata": {},
   "source": [
    "10) Print the type of Mr. Ahmed's weight. Convert the weight of Mr. Ahmed in kg so that weight must be a integer value."
   ]
  },
  {
   "cell_type": "code",
   "execution_count": 18,
   "id": "1d581612-8e0f-4ba0-8301-60f65c584c43",
   "metadata": {},
   "outputs": [
    {
     "name": "stdout",
     "output_type": "stream",
     "text": [
      "<class 'int'>\n",
      "In Kg, 70600000\n"
     ]
    }
   ],
   "source": [
    "print(type(weight))\n",
    "weight_kg = weight * 1000\n",
    "print(f\"In Kg, {weight_kg}\")"
   ]
  },
  {
   "cell_type": "raw",
   "id": "ce431e15-eae4-41bd-a072-058c38e91be2",
   "metadata": {},
   "source": [
    "11) print the year of birth of Mr. Ahmed."
   ]
  },
  {
   "cell_type": "code",
   "execution_count": 19,
   "id": "0f12a04f-22f1-47d7-ac97-4a2e4f5d1294",
   "metadata": {},
   "outputs": [
    {
     "name": "stdout",
     "output_type": "stream",
     "text": [
      "Mr Ahmed is born in 1995\n"
     ]
    }
   ],
   "source": [
    "print(f\"Mr Ahmed is born in {2025-30}\")"
   ]
  },
  {
   "cell_type": "raw",
   "id": "d8d8c345-a5bc-4f4f-b33b-c8dd0fdc5bcb",
   "metadata": {},
   "source": [
    "12) Can Rs. 100 be divided equally among 6 students?\n",
    "HINT: % operator (modulo)"
   ]
  },
  {
   "cell_type": "code",
   "execution_count": 24,
   "id": "063d9337-7c87-4ca8-9056-bc27ca4a3211",
   "metadata": {},
   "outputs": [
    {
     "name": "stdout",
     "output_type": "stream",
     "text": [
      "No, Rs 100 can't be equally divide among 6 students\n"
     ]
    }
   ],
   "source": [
    "if (100%6 == 0):\n",
    "    print(\"Yes, Rs 100 can be equally divide among 6 students\")\n",
    "else:\n",
    "    print(\"No, Rs 100 can't be equally divide among 6 students\")"
   ]
  },
  {
   "cell_type": "code",
   "execution_count": null,
   "id": "538da6e4-9be6-4adf-89cd-d41ba7e97d48",
   "metadata": {},
   "outputs": [],
   "source": []
  }
 ],
 "metadata": {
  "kernelspec": {
   "display_name": "Python 3 (ipykernel)",
   "language": "python",
   "name": "python3"
  },
  "language_info": {
   "codemirror_mode": {
    "name": "ipython",
    "version": 3
   },
   "file_extension": ".py",
   "mimetype": "text/x-python",
   "name": "python",
   "nbconvert_exporter": "python",
   "pygments_lexer": "ipython3",
   "version": "3.12.4"
  }
 },
 "nbformat": 4,
 "nbformat_minor": 5
}
