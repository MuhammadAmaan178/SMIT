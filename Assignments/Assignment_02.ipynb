{
 "cells": [
  {
   "cell_type": "raw",
   "metadata": {
    "id": "8rksu2_jMVjQ"
   },
   "source": [
    "1) A company decided to give bonus of 5% to employee if his/her year of service is more than 5 years.\n",
    "Ask user for their salary and year of service and print the net bonus amount."
   ]
  },
  {
   "cell_type": "code",
   "execution_count": 2,
   "metadata": {
    "id": "_GRPHPiLMVjX"
   },
   "outputs": [
    {
     "name": "stdin",
     "output_type": "stream",
     "text": [
      "Enter Your Service Years :  7\n",
      "Enter Your Salary :  500000\n"
     ]
    },
    {
     "name": "stdout",
     "output_type": "stream",
     "text": [
      "The Net Bonus Amount Is 525000.0\n"
     ]
    }
   ],
   "source": [
    "year_s = int(input(\"Enter Your Service Years : \"))\n",
    "if (year_s > 5):\n",
    "    salary = int(input(\"Enter Your Salary : \"))\n",
    "    per = (5/100) * salary\n",
    "    net_salary = salary+per\n",
    "    print(f\"The Net Bonus Amount Is {net_salary}\")\n",
    "else:\n",
    "    print(\"You Are Not Eligible\")"
   ]
  },
  {
   "cell_type": "raw",
   "metadata": {
    "id": "iXt5RVcjMVja"
   },
   "source": [
    "2) Write a program to check whether a person is eligible for voting or not.  ask age of the person , if age is more than or equal to 18 then eligible if less than 18 no eligible"
   ]
  },
  {
   "cell_type": "code",
   "execution_count": 3,
   "metadata": {
    "id": "jXVCvia3MVjh"
   },
   "outputs": [
    {
     "name": "stdin",
     "output_type": "stream",
     "text": [
      "Enter Your Age :  99\n"
     ]
    },
    {
     "name": "stdout",
     "output_type": "stream",
     "text": [
      "You Are Eligible\n"
     ]
    }
   ],
   "source": [
    "age = int(input(\"Enter Your Age : \"))\n",
    "if (age>=18):\n",
    "    print(\"You Are Eligible\")\n",
    "else:\n",
    "    print(\"You Are Not Eligible\")\n"
   ]
  },
  {
   "cell_type": "raw",
   "metadata": {},
   "source": [
    "3) Take values of length and breadth of a rectangle from user and check if it is square or not."
   ]
  },
  {
   "cell_type": "code",
   "execution_count": 4,
   "metadata": {},
   "outputs": [
    {
     "name": "stdin",
     "output_type": "stream",
     "text": [
      "Enter lenght of rectangle :  5\n",
      "Enter breadth of rectangle :  5\n"
     ]
    },
    {
     "name": "stdout",
     "output_type": "stream",
     "text": [
      "Given Rectangle Is Square\n"
     ]
    }
   ],
   "source": [
    "length = int(input(\"Enter lenght of rectangle : \"))\n",
    "breadth = int(input(\"Enter breadth of rectangle : \"))\n",
    "if (length == breadth):\n",
    "    print(\"Given Rectangle Is Square\")\n",
    "else:\n",
    "    print(\"Given Rectangle Is Not Square\")\n"
   ]
  },
  {
   "cell_type": "raw",
   "metadata": {
    "id": "IkNM7QpCMVjj"
   },
   "source": [
    "4) Write a program to check whether a number entered by user is even or odd.\n",
    "\n",
    "Hint: Use modulo operator (%) to check remainder when divideing with 2 , if remainder is 0 even, else odd "
   ]
  },
  {
   "cell_type": "code",
   "execution_count": null,
   "metadata": {
    "id": "-GxviwByMVjl"
   },
   "outputs": [
    {
     "name": "stdout",
     "output_type": "stream",
     "text": [
      "Enter a number15\n",
      "odd\n"
     ]
    }
   ],
   "source": []
  },
  {
   "cell_type": "raw",
   "metadata": {
    "id": "_jEHjkfdMVjm"
   },
   "source": [
    "5) Write a program to check whether a number is divisible by 7 or not.\n",
    "\n",
    "Hint: Use modulo operator (%) to check remainder when divideing with 7 , if remainder is 0 divisible, else not divisible"
   ]
  },
  {
   "cell_type": "code",
   "execution_count": 7,
   "metadata": {
    "id": "IRNXyG1GMVjo"
   },
   "outputs": [
    {
     "name": "stdin",
     "output_type": "stream",
     "text": [
      "Enter The Number :  7\n"
     ]
    },
    {
     "name": "stdout",
     "output_type": "stream",
     "text": [
      "Number Is Divisible By 7\n"
     ]
    }
   ],
   "source": [
    "number = int(input(\"Enter The Number : \"))\n",
    "if ((number % 7) == 0):\n",
    "    print(\"Number Is Divisible By 7\")\n",
    "else:\n",
    "    print(\"Number Is Not Divisible By 7\")"
   ]
  },
  {
   "cell_type": "raw",
   "metadata": {
    "id": "XxfyVe4kMVjp"
   },
   "source": [
    "6) Write a program to display \n",
    "\"Hello\" if a number entered by user is a multiple of five , otherwise print \"Bye\".\n",
    "Hint : modulo operator"
   ]
  },
  {
   "cell_type": "code",
   "execution_count": 9,
   "metadata": {
    "id": "Ixnz4R4TMVjr"
   },
   "outputs": [
    {
     "name": "stdin",
     "output_type": "stream",
     "text": [
      "Enter The Number :  10\n"
     ]
    },
    {
     "name": "stdout",
     "output_type": "stream",
     "text": [
      "Hello\n"
     ]
    }
   ],
   "source": [
    "number = int(input(\"Enter The Number : \"))\n",
    "if ((number % 5) == 0):\n",
    "    print(\"Hello\")\n",
    "else:\n",
    "    print(\"Bye\")"
   ]
  },
  {
   "cell_type": "raw",
   "metadata": {
    "id": "qfzRUUwOMVjs"
   },
   "source": [
    "7) Write a program to calculate the electricity bill (accept number of unit from user) \n",
    "according to the following criteria :\n",
    "     Unit                                                     Price  \n",
    "upto 100 units                                              no charge\n",
    "Next 200 units                                              Rs 5 per unit\n",
    "After 300 units                                             Rs 10 per unit\n",
    "(For example if input unit is 350 than total bill amount is Rs.1500\n",
    "(For example if input unit is 97 than total bill amount is Rs.0\n",
    "(For example if input unit is 150 than total bill amount is Rs.250"
   ]
  },
  {
   "cell_type": "code",
   "execution_count": 10,
   "metadata": {
    "id": "1BY1oAIpMVju"
   },
   "outputs": [
    {
     "name": "stdin",
     "output_type": "stream",
     "text": [
      "Enter Your Bill Units :  55\n"
     ]
    },
    {
     "name": "stdout",
     "output_type": "stream",
     "text": [
      "Your K.E Bill Amount Is 0\n"
     ]
    }
   ],
   "source": [
    "units = int(input(\"Enter Your Bill Units : \"))\n",
    "if (units <= 100):\n",
    "    bill = units * 0\n",
    "elif (units <=200):\n",
    "    bill = units * 5\n",
    "else:\n",
    "    bill = units * 10\n",
    "print(f\"Your K.E Bill Amount Is {bill}\")"
   ]
  },
  {
   "cell_type": "raw",
   "metadata": {
    "id": "msAIDMRDMVjv"
   },
   "source": [
    "7) Write a program to display the last digit of a number."
   ]
  },
  {
   "cell_type": "code",
   "execution_count": 13,
   "metadata": {
    "id": "VQwLuGzbMVjv"
   },
   "outputs": [
    {
     "name": "stdin",
     "output_type": "stream",
     "text": [
      "Enter A Number 5673\n"
     ]
    },
    {
     "name": "stdout",
     "output_type": "stream",
     "text": [
      "3\n"
     ]
    }
   ],
   "source": [
    "number = str(input(\"Enter A Number\"))\n",
    "print(number[-1])"
   ]
  },
  {
   "cell_type": "raw",
   "metadata": {
    "id": "UeLHzVZ_MVjw"
   },
   "source": [
    "8) Write a program to check whether the last digit of a number( entered by user ) is \n",
    "divisible by 3 or not."
   ]
  },
  {
   "cell_type": "code",
   "execution_count": 15,
   "metadata": {
    "id": "KiQ5wnc6MVjx"
   },
   "outputs": [
    {
     "name": "stdin",
     "output_type": "stream",
     "text": [
      "Enter A Number 566\n"
     ]
    },
    {
     "name": "stdout",
     "output_type": "stream",
     "text": [
      "Last Digit Is Divisible By 3\n"
     ]
    }
   ],
   "source": [
    "number = str(input(\"Enter A Number\"))\n",
    "digit = int(number[-1])\n",
    "if ((digit % 3) == 0):\n",
    "    print(\"Last Digit Is Divisible By 3\")\n",
    "else:\n",
    "    print(\"Last Digit Is Not Divisible By 3\")"
   ]
  },
  {
   "cell_type": "raw",
   "metadata": {
    "id": "B2e5VYbiMVjz"
   },
   "source": [
    "9) Take two int values from user and print greatest among them."
   ]
  },
  {
   "cell_type": "code",
   "execution_count": 17,
   "metadata": {
    "id": "LyYYL78HMVj0"
   },
   "outputs": [
    {
     "name": "stdin",
     "output_type": "stream",
     "text": [
      "Enter First Number :  6\n",
      "Enter Second Number :  3\n"
     ]
    },
    {
     "name": "stdout",
     "output_type": "stream",
     "text": [
      "6 Is Greater\n"
     ]
    }
   ],
   "source": [
    "num1 = int(input(\"Enter First Number : \"))\n",
    "num2 = int(input(\"Enter Second Number : \"))\n",
    "if (num1 == num2):\n",
    "    print(\"Both Are Equal\")\n",
    "elif(num1 > num2):\n",
    "    print(f\"{num1} Is Greater\")\n",
    "else:\n",
    "    print(f\"{num2} Is Greater\")"
   ]
  },
  {
   "cell_type": "raw",
   "metadata": {
    "id": "R9gMEjdQMVj1"
   },
   "source": [
    "10) A shop will give discount of 10% if the cost of purchased quantity is more than 1000.\n",
    "Ask user for quantity\n",
    "Suppose, one unit will cost 100.\n",
    "Judge and print total cost for user."
   ]
  },
  {
   "cell_type": "code",
   "execution_count": 20,
   "metadata": {
    "id": "hjvEnOzxMVj2"
   },
   "outputs": [
    {
     "name": "stdin",
     "output_type": "stream",
     "text": [
      "Enter Purchased Quantity 11\n"
     ]
    },
    {
     "name": "stdout",
     "output_type": "stream",
     "text": [
      "Your Total Is 990.0 After 110.0 Discount\n"
     ]
    }
   ],
   "source": [
    "quan = int(input(\"Enter Purchased Quantity\"))\n",
    "if ((quan*100) >= 1000):\n",
    "    dis_am = (10/100) * (quan*100)\n",
    "else:\n",
    "    dis_am = 0\n",
    "print(f\"Your Total Is {(quan*100)-dis_am} After {dis_am} Discount\")"
   ]
  },
  {
   "cell_type": "raw",
   "metadata": {
    "id": "yqYL7FZeMVj3"
   },
   "source": [
    "11) A school has following rules for grading system:\n",
    "\n",
    "a. Below 25 - F\n",
    "\n",
    "b. 25 to 45 - E\n",
    "\n",
    "c. 45 to 50 - D\n",
    "\n",
    "d. 50 to 60 - C\n",
    "\n",
    "e. 60 to 80 - B\n",
    "\n",
    "f. Above 80 - A\n",
    "\n",
    "Ask user to enter marks and print the corresponding grade."
   ]
  },
  {
   "cell_type": "code",
   "execution_count": 24,
   "metadata": {
    "id": "he_r-bpOMVj4"
   },
   "outputs": [
    {
     "name": "stdin",
     "output_type": "stream",
     "text": [
      "Enter Your Percentage :  88\n"
     ]
    },
    {
     "name": "stdout",
     "output_type": "stream",
     "text": [
      "You Got A Grade\n"
     ]
    }
   ],
   "source": [
    "per = float(input(\"Enter Your Percentage : \"))\n",
    "if (per>=0 and per<=100):\n",
    "    if(per>=80):\n",
    "        print(\"You Got A Grade\")\n",
    "    elif(per>=60):\n",
    "        print(\"You Got B Grade\")\n",
    "    elif(per>=50):\n",
    "        print(\"You Got C Grade\")\n",
    "    elif(per>=45):\n",
    "        print(\"You Got D Grade\")\n",
    "    elif(per>=25):\n",
    "        print(\"You Got E Grade\")\n",
    "    else:\n",
    "        print(\"You Got F Grade\")\n",
    "else:\n",
    "    print(\"Enter Valid Percentage\")"
   ]
  },
  {
   "cell_type": "raw",
   "metadata": {
    "id": "IUJjt9NbMVj4"
   },
   "source": [
    "12) Take input of age of 3 people by user and determine oldest and youngest among them."
   ]
  },
  {
   "cell_type": "code",
   "execution_count": 3,
   "metadata": {
    "id": "vlre5Ck0MVj4"
   },
   "outputs": [
    {
     "name": "stdin",
     "output_type": "stream",
     "text": [
      "Enter Age For 1st person :  66\n",
      "Enter Age For 2nd person :  43\n",
      "Enter Age For 3rd person :  35\n"
     ]
    },
    {
     "name": "stdout",
     "output_type": "stream",
     "text": [
      "1st person is oldest\n",
      "3rd person is youngest\n"
     ]
    }
   ],
   "source": [
    "age1 = int(input(\"Enter Age For 1st person : \"))\n",
    "age2 = int(input(\"Enter Age For 2nd person : \"))\n",
    "age3 = int(input(\"Enter Age For 3rd person : \"))\n",
    "\n",
    "if (age1>age2 and age1>age3):\n",
    "    print(\"1st person is oldest\")\n",
    "elif (age2>age1 and age2>age3):\n",
    "    print(\"2nd person is oldest\")\n",
    "elif (age3>age1 and age3>age2):\n",
    "    print(\"3rd person is oldest\")\n",
    "\n",
    "if (age1<age2 and age1<age3):\n",
    "    print(\"1st person is youngest\")\n",
    "elif (age2<age1 and age2<age3):\n",
    "    print(\"2nd person is youngest\")\n",
    "elif (age3<age1 and age3<age2):\n",
    "    print(\"3rd person is youngest\")"
   ]
  },
  {
   "cell_type": "raw",
   "metadata": {
    "id": "Zc9ovDhsMVj5"
   },
   "source": [
    "13)A student will not be allowed to sit in exam if his/her attendence is less than 75%.\n",
    "\n",
    "Take following input from user\n",
    "\n",
    "Number of classes held\n",
    "\n",
    "Number of classes attended.\n",
    "\n",
    "And print\n",
    "\n",
    "percentage of class attended\n",
    "\n",
    "Is student is allowed to sit in exam or not.\n"
   ]
  },
  {
   "cell_type": "code",
   "execution_count": 5,
   "metadata": {
    "id": "rseYum2_MVj6"
   },
   "outputs": [
    {
     "name": "stdin",
     "output_type": "stream",
     "text": [
      "Enter Number Of Classes Held :  50\n",
      "Enter Number Of Classes Attend :  40\n"
     ]
    },
    {
     "name": "stdout",
     "output_type": "stream",
     "text": [
      "Attendence : 80.0\n",
      "Student Is Allowed\n"
     ]
    }
   ],
   "source": [
    "c_held = int(input(\"Enter Number Of Classes Held : \"))\n",
    "c_attend = int(input(\"Enter Number Of Classes Attend : \"))\n",
    "per = (c_attend*100)/c_held\n",
    "print(f\"Attendence : {per}\")\n",
    "if (per >= 75):\n",
    "    print(\"Student Is Allowed\")\n",
    "else:\n",
    "    print(\"Student Is Not Allowed\")"
   ]
  },
  {
   "cell_type": "raw",
   "metadata": {
    "id": "58UPPHAOMVj6"
   },
   "source": [
    "14) Modify the above question to allow student to sit if he/she has medical cause. Ask user if he/she has medical cause or not ( 'Y' or 'N' ) and print accordingly."
   ]
  },
  {
   "cell_type": "code",
   "execution_count": 7,
   "metadata": {
    "id": "lDi-xLzTMVj7"
   },
   "outputs": [
    {
     "name": "stdin",
     "output_type": "stream",
     "text": [
      "Enter Number Of Classes Held :  100\n",
      "Enter Number Of Classes Attend :  50\n"
     ]
    },
    {
     "name": "stdout",
     "output_type": "stream",
     "text": [
      "Attendence : 50.0\n"
     ]
    },
    {
     "name": "stdin",
     "output_type": "stream",
     "text": [
      "Do You Have Any Medical Cause???(Y for yes and N for no) :  Y\n"
     ]
    },
    {
     "name": "stdout",
     "output_type": "stream",
     "text": [
      "Student Is Allowed\n"
     ]
    }
   ],
   "source": [
    "c_held = int(input(\"Enter Number Of Classes Held : \"))\n",
    "c_attend = int(input(\"Enter Number Of Classes Attend : \"))\n",
    "per = (c_attend*100)/c_held\n",
    "print(f\"Attendence : {per}\")\n",
    "if (per >= 75):\n",
    "    print(\"Student Is Allowed\")\n",
    "else:\n",
    "    medical = input(\"Do You Have Any Medical Cause???(Y for yes and N for no) : \")\n",
    "    if(medical == \"Y\"):\n",
    "        print(\"Student Is Allowed\")\n",
    "    elif(medical == \"N\"):\n",
    "        print(\"Student Is Not Allowed\")\n",
    "    else:\n",
    "        print(\"Choose Y or N\")"
   ]
  },
  {
   "cell_type": "raw",
   "metadata": {
    "id": "kJtSy1EoMVj7"
   },
   "source": [
    "15) Write a program to check if a year is leap year or not.\n",
    "\n",
    "If a year is divisible by 4 then it is leap year but if the year is century year like 2000, 1900, 2100 then it must be divisible by 400."
   ]
  },
  {
   "cell_type": "code",
   "execution_count": 8,
   "metadata": {
    "id": "QUL_YUX3MVj7"
   },
   "outputs": [
    {
     "name": "stdin",
     "output_type": "stream",
     "text": [
      "Enter Year :  2000\n"
     ]
    },
    {
     "name": "stdout",
     "output_type": "stream",
     "text": [
      "Year Is Leap Year\n"
     ]
    }
   ],
   "source": [
    "year = int(input(\"Enter Year : \"))\n",
    "if(year%400 == 0):\n",
    "    print(\"Year Is Leap Year\")\n",
    "else:\n",
    "    print(\"Year Is Not Leap Year\")"
   ]
  },
  {
   "cell_type": "raw",
   "metadata": {
    "id": "CCNg4yDDMVj8"
   },
   "source": [
    "16) Ask user to enter age, gender ( M or F ), marital status ( Y or N ) and then using following rules print their place of service.\n",
    "\n",
    "if employee is female, then she will work only in urban areas.\n",
    "\n",
    "if employee is a male and age is in between 20 to 40 then he may work in anywhere\n",
    "\n",
    "if employee is male and age is in between 40 t0 60 then he will work in urban areas only.\n",
    "\n",
    "And any other input of age should print \"ERROR\""
   ]
  },
  {
   "cell_type": "code",
   "execution_count": 12,
   "metadata": {
    "id": "RDWMB0CZMVj8"
   },
   "outputs": [
    {
     "name": "stdin",
     "output_type": "stream",
     "text": [
      "Enter Your Age :  25\n",
      "Enter Your Gender (M for male and F for female) :  M\n",
      "Enter Your Marital Status (Y for yes and N for no) :  N\n"
     ]
    },
    {
     "name": "stdout",
     "output_type": "stream",
     "text": [
      "You Can Work Anywhere\n"
     ]
    }
   ],
   "source": [
    "age = int(input(\"Enter Your Age : \"))\n",
    "gender = input(\"Enter Your Gender (M for male and F for female) : \")\n",
    "m_status = input(\"Enter Your Marital Status (Y for yes and N for no) : \")\n",
    "\n",
    "if(age>=20 and age<=60):\n",
    "    if (gender == \"M\"):\n",
    "        if(age>=20 and age<=40):\n",
    "            print(\"You Can Work Anywhere\")\n",
    "        elif(age>40 and age>=60):\n",
    "            print(\"You Can Work In Urban Areas Only\")\n",
    "    elif (gender == \"F\"):\n",
    "        print(\"You Can Work In Urban Areas Only\")\n",
    "    else:\n",
    "        print(\"Choose Between M or F\")\n",
    "else:\n",
    "    print(\"Error\")"
   ]
  },
  {
   "cell_type": "code",
   "execution_count": 9,
   "metadata": {},
   "outputs": [
    {
     "name": "stdout",
     "output_type": "stream",
     "text": [
      "Enter your age45\n",
      "<class 'int'>\n",
      "35\n"
     ]
    }
   ],
   "source": [
    "salman_age = int(input(\"Enter your age\"))\n",
    "print(type(salman_age))\n",
    "print(salman_age-10)"
   ]
  },
  {
   "cell_type": "code",
   "execution_count": 3,
   "metadata": {},
   "outputs": [
    {
     "data": {
      "text/plain": [
       "40"
      ]
     },
     "execution_count": 3,
     "metadata": {},
     "output_type": "execute_result"
    }
   ],
   "source": [
    "salman_age"
   ]
  },
  {
   "cell_type": "code",
   "execution_count": null,
   "metadata": {},
   "outputs": [],
   "source": []
  }
 ],
 "metadata": {
  "colab": {
   "name": "If then Else &Elif Practice Task .ipynb",
   "provenance": []
  },
  "kernelspec": {
   "display_name": "Python 3 (ipykernel)",
   "language": "python",
   "name": "python3"
  },
  "language_info": {
   "codemirror_mode": {
    "name": "ipython",
    "version": 3
   },
   "file_extension": ".py",
   "mimetype": "text/x-python",
   "name": "python",
   "nbconvert_exporter": "python",
   "pygments_lexer": "ipython3",
   "version": "3.12.4"
  }
 },
 "nbformat": 4,
 "nbformat_minor": 4
}
